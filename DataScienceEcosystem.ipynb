{
 "cells": [
  {
   "cell_type": "markdown",
   "id": "74797f26-1fd3-4bef-93ea-653516e2f806",
   "metadata": {},
   "source": [
    "# Data Science Tools and Ecosystem"
   ]
  },
  {
   "cell_type": "markdown",
   "id": "687132de-2985-4ed2-a571-751f1109b64b",
   "metadata": {},
   "source": [
    "## In this notebook, Data Science Tools and Ecosystem are summarized."
   ]
  },
  {
   "cell_type": "markdown",
   "id": "eb0e8530-d6fc-4470-ae41-25a6cc815d5f",
   "metadata": {
    "jp-MarkdownHeadingCollapsed": true
   },
   "source": [
    "### **Objectives:**\n",
    "- List popular languages for Data Science\n",
    "- Create a Jupyter Notebook\n",
    "- Data Science Tools and Ecosystem\n",
    "- libraries used by Data Scientists"
   ]
  },
  {
   "cell_type": "markdown",
   "id": "88818325-b8a4-4eb8-a825-fa0c865546cd",
   "metadata": {},
   "source": [
    "## Some of the popular languages that Data Scientists use are:\n",
    "\n",
    "1. Python\n",
    "2. R\n",
    "3. SQL\n",
    "4. Java\n",
    "5. Julia\n",
    "6. Scala"
   ]
  },
  {
   "cell_type": "markdown",
   "id": "eb18dcf0-e3bf-44ed-9122-142f284d0ddc",
   "metadata": {},
   "source": [
    "## Some of the commonly used libraries used by Data Scientists include:\n",
    "\n",
    "1. NumPy\n",
    "2. Pandas\n",
    "3. Matplotlib\n",
    "4. Seaborn\n",
    "5. SciPy\n",
    "6. Scikit\n",
    "7. TensorFlow"
   ]
  },
  {
   "cell_type": "markdown",
   "id": "aacfd8ab-fa26-4723-8f6e-496627b96ea8",
   "metadata": {},
   "source": [
    "|Data Science Tools|\n",
    "|------------------|\n",
    "|Jupiter Notebook|\n",
    "| Apache Spark|\n",
    "| MatLab|"
   ]
  },
  {
   "cell_type": "markdown",
   "id": "1da2eb7c-e5fd-4af2-90bd-ec06ac9fbcaa",
   "metadata": {},
   "source": [
    "### Below are a few examples of evaluating arithmetic expressions in Python.\n",
    "  \n",
    "#### Arithmetic Expressions \n",
    "* x = 40\n",
    "* y = 12\n",
    "  \n",
    "- add = x + y \n",
    "- sub = x - y \n",
    "- pro = x * y \n",
    "- div = x / y\n",
    "  \n",
    "- print(add)\n",
    "- print(sub) \n",
    "- print(pro) \n",
    "- print(div)"
   ]
  },
  {
   "cell_type": "code",
   "execution_count": 4,
   "id": "ab64a80a-6498-4b48-a646-2187ab229b44",
   "metadata": {},
   "outputs": [
    {
     "name": "stdout",
     "output_type": "stream",
     "text": [
      "the result of multiplying {number1} by {number2} is: {result1}\n",
      "the result of adding {result1} by {number3} is: {result}\n"
     ]
    },
    {
     "data": {
      "text/plain": [
       "17"
      ]
     },
     "execution_count": 4,
     "metadata": {},
     "output_type": "execute_result"
    }
   ],
   "source": [
    "# This a simple arithmetic expression to mutiply then add integers \n",
    "number1= 3\n",
    "number2= 4\n",
    "number3= 5\n",
    "\n",
    "# multiply the numbers\n",
    "result= number1 * number2\n",
    "\n",
    "print (\"the result of multiplying {number1} by {number2} is: {result1}\")\n",
    "print (\"the result of adding {result1} by {number3} is: {result}\")\n",
    "(3*4)+5\n"
   ]
  },
  {
   "cell_type": "code",
   "execution_count": 5,
   "id": "bfa4625b-15cc-444c-ad9a-e7ab0b265343",
   "metadata": {},
   "outputs": [
    {
     "name": "stdout",
     "output_type": "stream",
     "text": [
      "200 minutes is equal to 3.3333333333333335 hours.\n"
     ]
    }
   ],
   "source": [
    "#This will convert 200 minutes to hours by diving by 60\n",
    "minutes= 200\n",
    "hours= minutes/60\n",
    "\n",
    "print(f\"{minutes} minutes is equal to {hours} hours.\")"
   ]
  },
  {
   "cell_type": "markdown",
   "id": "510d206f-f4bd-41f5-821a-a4225832e624",
   "metadata": {},
   "source": [
    "## ***Author***\n",
    "Yuri Andrea Toro"
   ]
  },
  {
   "cell_type": "code",
   "execution_count": null,
   "id": "e00d54a5-bcd2-4413-b9c2-6f61e8ed2971",
   "metadata": {},
   "outputs": [],
   "source": []
  }
 ],
 "metadata": {
  "kernelspec": {
   "display_name": "Python 3 (ipykernel)",
   "language": "python",
   "name": "python3"
  },
  "language_info": {
   "codemirror_mode": {
    "name": "ipython",
    "version": 3
   },
   "file_extension": ".py",
   "mimetype": "text/x-python",
   "name": "python",
   "nbconvert_exporter": "python",
   "pygments_lexer": "ipython3",
   "version": "3.11.7"
  }
 },
 "nbformat": 4,
 "nbformat_minor": 5
}
